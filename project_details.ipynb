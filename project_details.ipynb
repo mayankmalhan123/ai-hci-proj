{
 "cells": [
  {
   "cell_type": "markdown",
   "metadata": {},
   "source": [
    "# AI for HCI project\n",
    "This notebook will introduce you to the project that you will have to complete \n",
    "to pass the seminar. You will have the chance to put into practice the concepts \n",
    "that we covered so far to solve the fundamental interaction problem in HCI of \n",
    "text input.\n",
    " \n",
    "We will give you the KEYBOARD class as a starting point. Your task will be to \n",
    "**optimize it for one finger typing using methods presented in the seminar**.\n",
    "You can refer to the other notebook in this repository for starters on how to \n",
    "use optimization in HCI.\n",
    " \n",
    "There are different levels of difficulty for this task. To get the minimum \n",
    "passing grade you must deliver a project that solves the first item in the list \n",
    "of tasks you can solve.\n",
    "### TASKS [max. 15P]\n",
    "- (EASY, 6P, MINIMUM REQ.) Implement an exhaustive search solver to optimize the\n",
    "width and height of the keyboard keys. Decide on how you formulate the optimization\n",
    "problem, i.e., using a weighted-sum or computing the pareto front.\n",
    "- (MEDIUM, 1P) Implement an evaluation method that compares the solution of \n",
    "your solver to the best solution of guessing at random (x times).\n",
    "- (MEDIUM, 3P) Implement a meta-heuristic search method (e.g., genetic algorithm) to \n",
    "optimize the width and height of the keyboard keys. It should find a solution better\n",
    "than guessing at random consistently (use the method above).\n",
    "- (MEDIUM, 3P) Implement an optimization method of your choice to optimize the \n",
    "keyboard layout, that is the order of letters on the keyboard. It should find a \n",
    "solution better than guessing at random consistently (use the method above).≈\n",
    "- (HARD, 2P) Update the keyboard code to support different combinations of key \n",
    "dimensions/shapes. Now think outside the box. What keyboard characteristics can\n",
    "you change that could improve the typing experience (e.g., number of rows, size/\n",
    "shape of individual keys, etc)?\n",
    " \n",
    "### OPTIONAL\n",
    "- [+0.5p] Normalize the cost functions. \n",
    "- [+1P] Create new cost functions for the problem you want to solve. For\n",
    "example, if you are changing the keyboard layout, you can take inspiration from\n",
    "[here](https://dl.acm.org/doi/abs/10.1145/1753326.1753367) or the AZERTY amelioré paper.\n",
    "- [+1P] Benchmark different solvers against each other in terms of performance / \n",
    "quality of the solutions on one of the problems above. Implement at least one \n",
    "more solver for this task.\n",
    "- [+1P] Optimize for different user behaviours or different languages (see last \n",
    "cell of the notebook).\n",
    "\n",
    " \n",
    "### Submission Instructions\n",
    " \n",
    "The code cells below give examples on how to use the keyboard code available and\n",
    "documented on the keyboard.py file. \n",
    "We give you two objective functions to get started: movement time (from fitt's\n",
    "law) and error rate (from [Bi et al.](https://dl.acm.org/doi/pdf/10.1145/2984511.2984546)).\n",
    "\n",
    "Briefly report your approach and results in a document and submit \n",
    "it to CMS. Zip the code and add it to your submission. You will be graded based on\n",
    "the report - **we might check your code for consistencies, please document it.**\n",
    "\n",
    "In the report, for each task, explain how you solve it and justify your implementation\n",
    "decisions. Present and discuss the results.\n",
    "\n",
    "### Presentation\n",
    "In the last session be prepared to present parts of the work you have done for\n",
    "this project."
   ]
  },
  {
   "cell_type": "code",
   "execution_count": 1,
   "metadata": {},
   "outputs": [
    {
     "name": "stdout",
     "output_type": "stream",
     "text": [
      "pygame 2.6.0 (SDL 2.28.4, Python 3.12.0)\n",
      "Hello from the pygame community. https://www.pygame.org/contribute.html\n",
      "startintg exhaustive search\n",
      "118.0 [44.0, 11.0, 44.0, 11.0, 40.0, 0.35, 4]\n",
      "startintg exhaustive search\n",
      "118.0 [44.0, 11.0, 44.0, 11.0, 40.0, 0.35, 4]\n",
      "startintg random search\n",
      "128.91074492375895 [56.0, 47.0, 206.0, 47.0, 30.0, 0.2, 3]\n",
      "Exhaustive search score : 118.0\n",
      "Random search score     : 128.91074492375895\n"
     ]
    }
   ],
   "source": [
    "from keyboard import KEYBOARD\n",
    "k = KEYBOARD()\n",
    "#TASK1 \n",
    "print(f\"going through search space exhaustively \")\n",
    "k.exhaustive_search()\n",
    "\n",
    "#TASK2\n",
    "print(f\"comparing exhaustive and random search\")\n",
    "k.compare_search()"
   ]
  },
  {
   "cell_type": "code",
   "execution_count": 9,
   "metadata": {},
   "outputs": [],
   "source": [
    "import numpy as np\n",
    "from keyboard import KEYBOARD"
   ]
  },
  {
   "cell_type": "code",
   "execution_count": 10,
   "metadata": {},
   "outputs": [],
   "source": [
    "### ----------------\n",
    "### Ignore this cell\n",
    "### ----------------\n",
    "\n",
    "from IPython.display import HTML\n",
    "from base64 import b64encode\n",
    "\n",
    "# Display the video in the notebook\n",
    "def display_video():\n",
    "    video_file = open(\"keyboard_typing.mp4\", \"rb\")\n",
    "    video_encoded = b64encode(video_file.read()).decode()\n",
    "\n",
    "    # Create an HTML string with embedded video\n",
    "    video_html = f'''\n",
    "    <video width=1000 controls>\n",
    "        <source src=\"data:video/mp4;base64,{video_encoded}\" type=\"video/mp4\">\n",
    "    </video>\n",
    "    '''\n",
    "\n",
    "    # Display video in the notebook\n",
    "    display(HTML(video_html))"
   ]
  },
  {
   "cell_type": "code",
   "execution_count": 11,
   "metadata": {},
   "outputs": [
    {
     "name": "stdout",
     "output_type": "stream",
     "text": [
      "== Rendering keyboard ==\n"
     ]
    },
    {
     "ename": "ValueError",
     "evalue": "Could not find a backend to open `keyboard_typing.mp4`` with iomode `w?`.\nBased on the extension, the following plugins might add capable backends:\n  FFMPEG:  pip install imageio[ffmpeg]\n  pyav:  pip install imageio[pyav]",
     "output_type": "error",
     "traceback": [
      "\u001b[1;31m---------------------------------------------------------------------------\u001b[0m",
      "\u001b[1;31mValueError\u001b[0m                                Traceback (most recent call last)",
      "Cell \u001b[1;32mIn[11], line 8\u001b[0m\n\u001b[0;32m      5\u001b[0m keyboard\u001b[38;5;241m.\u001b[39massign_key_dim((\u001b[38;5;241m20\u001b[39m, \u001b[38;5;241m20\u001b[39m))\n\u001b[0;32m      7\u001b[0m \u001b[38;5;66;03m# To render the current keyboard design, use this function.\u001b[39;00m\n\u001b[1;32m----> 8\u001b[0m \u001b[43mkeyboard\u001b[49m\u001b[38;5;241;43m.\u001b[39;49m\u001b[43mrender\u001b[49m\u001b[43m(\u001b[49m\u001b[43mduration\u001b[49m\u001b[38;5;241;43m=\u001b[39;49m\u001b[38;5;241;43m0.1\u001b[39;49m\u001b[43m)\u001b[49m\n\u001b[0;32m     10\u001b[0m \u001b[38;5;66;03m# You can view it on the notebook using \u001b[39;00m\n\u001b[0;32m     11\u001b[0m display_video()\n",
      "File \u001b[1;32mc:\\Users\\Mayan\\Desktop\\HCI\\git\\ai-hci-project-main\\ai-hci-project-main\\keyboard.py:312\u001b[0m, in \u001b[0;36mKEYBOARD.render\u001b[1;34m(self, cursor_history, duration, mm_to_px_ratio)\u001b[0m\n\u001b[0;32m    308\u001b[0m pygame\u001b[38;5;241m.\u001b[39mdisplay\u001b[38;5;241m.\u001b[39mset_caption(\u001b[38;5;124m'\u001b[39m\u001b[38;5;124mkeyboard\u001b[39m\u001b[38;5;124m'\u001b[39m)\n\u001b[0;32m    310\u001b[0m refresh_rate \u001b[38;5;241m=\u001b[39m \u001b[38;5;241m5\u001b[39m\n\u001b[1;32m--> 312\u001b[0m writer \u001b[38;5;241m=\u001b[39m \u001b[43mimageio\u001b[49m\u001b[38;5;241;43m.\u001b[39;49m\u001b[43mget_writer\u001b[49m\u001b[43m(\u001b[49m\u001b[38;5;124;43m'\u001b[39;49m\u001b[38;5;124;43mkeyboard_typing.mp4\u001b[39;49m\u001b[38;5;124;43m'\u001b[39;49m\u001b[43m,\u001b[49m\u001b[43m \u001b[49m\u001b[43mfps\u001b[49m\u001b[38;5;241;43m=\u001b[39;49m\u001b[43mrefresh_rate\u001b[49m\u001b[43m)\u001b[49m\n\u001b[0;32m    314\u001b[0m font \u001b[38;5;241m=\u001b[39m pygame\u001b[38;5;241m.\u001b[39mfont\u001b[38;5;241m.\u001b[39mFont(\u001b[38;5;28;01mNone\u001b[39;00m, \u001b[38;5;241m24\u001b[39m)\n\u001b[0;32m    316\u001b[0m surfaces \u001b[38;5;241m=\u001b[39m []\n",
      "File \u001b[1;32mc:\\Users\\Mayan\\anaconda3\\envs\\env1\\Lib\\site-packages\\imageio\\v2.py:324\u001b[0m, in \u001b[0;36mget_writer\u001b[1;34m(uri, format, mode, **kwargs)\u001b[0m\n\u001b[0;32m    321\u001b[0m imopen_args \u001b[38;5;241m=\u001b[39m decypher_format_arg(\u001b[38;5;28mformat\u001b[39m)\n\u001b[0;32m    322\u001b[0m imopen_args[\u001b[38;5;124m\"\u001b[39m\u001b[38;5;124mlegacy_mode\u001b[39m\u001b[38;5;124m\"\u001b[39m] \u001b[38;5;241m=\u001b[39m \u001b[38;5;28;01mTrue\u001b[39;00m\n\u001b[1;32m--> 324\u001b[0m image_file \u001b[38;5;241m=\u001b[39m \u001b[43mimopen\u001b[49m\u001b[43m(\u001b[49m\u001b[43muri\u001b[49m\u001b[43m,\u001b[49m\u001b[43m \u001b[49m\u001b[38;5;124;43m\"\u001b[39;49m\u001b[38;5;124;43mw\u001b[39;49m\u001b[38;5;124;43m\"\u001b[39;49m\u001b[43m \u001b[49m\u001b[38;5;241;43m+\u001b[39;49m\u001b[43m \u001b[49m\u001b[43mmode\u001b[49m\u001b[43m,\u001b[49m\u001b[43m \u001b[49m\u001b[38;5;241;43m*\u001b[39;49m\u001b[38;5;241;43m*\u001b[39;49m\u001b[43mimopen_args\u001b[49m\u001b[43m)\u001b[49m\n\u001b[0;32m    325\u001b[0m \u001b[38;5;28;01mif\u001b[39;00m \u001b[38;5;28misinstance\u001b[39m(image_file, LegacyPlugin):\n\u001b[0;32m    326\u001b[0m     \u001b[38;5;28;01mreturn\u001b[39;00m image_file\u001b[38;5;241m.\u001b[39mlegacy_get_writer(\u001b[38;5;241m*\u001b[39m\u001b[38;5;241m*\u001b[39mkwargs)\n",
      "File \u001b[1;32mc:\\Users\\Mayan\\anaconda3\\envs\\env1\\Lib\\site-packages\\imageio\\core\\imopen.py:281\u001b[0m, in \u001b[0;36mimopen\u001b[1;34m(uri, io_mode, plugin, extension, format_hint, legacy_mode, **kwargs)\u001b[0m\n\u001b[0;32m    275\u001b[0m         err_msg \u001b[38;5;241m+\u001b[39m\u001b[38;5;241m=\u001b[39m (\n\u001b[0;32m    276\u001b[0m             \u001b[38;5;124m\"\u001b[39m\u001b[38;5;130;01m\\n\u001b[39;00m\u001b[38;5;124mBased on the extension, the following plugins might add capable backends:\u001b[39m\u001b[38;5;130;01m\\n\u001b[39;00m\u001b[38;5;124m\"\u001b[39m\n\u001b[0;32m    277\u001b[0m             \u001b[38;5;124mf\u001b[39m\u001b[38;5;124m\"\u001b[39m\u001b[38;5;132;01m{\u001b[39;00minstall_candidates\u001b[38;5;132;01m}\u001b[39;00m\u001b[38;5;124m\"\u001b[39m\n\u001b[0;32m    278\u001b[0m         )\n\u001b[0;32m    280\u001b[0m request\u001b[38;5;241m.\u001b[39mfinish()\n\u001b[1;32m--> 281\u001b[0m \u001b[38;5;28;01mraise\u001b[39;00m err_type(err_msg)\n",
      "\u001b[1;31mValueError\u001b[0m: Could not find a backend to open `keyboard_typing.mp4`` with iomode `w?`.\nBased on the extension, the following plugins might add capable backends:\n  FFMPEG:  pip install imageio[ffmpeg]\n  pyav:  pip install imageio[pyav]"
     ]
    }
   ],
   "source": [
    "keyboard = KEYBOARD()\n",
    "\n",
    "# let's create different designs and evalute user typing.\n",
    "# You can adjust the size of each key (in mm) by using this function:\n",
    "keyboard.assign_key_dim((20, 20))\n",
    "\n",
    "# To render the current keyboard design, use this function.\n",
    "keyboard.render(duration=0.1)\n",
    "\n",
    "# You can view it on the notebook using \n",
    "display_video()"
   ]
  },
  {
   "cell_type": "code",
   "execution_count": 4,
   "metadata": {},
   "outputs": [
    {
     "name": "stdout",
     "output_type": "stream",
     "text": [
      "Average movement time (s):  0.448 ; error rate :  0.012\n"
     ]
    }
   ],
   "source": [
    "# check how different key dimensions change the results!\n",
    "keyboard.assign_key_dim([15, 15])\n",
    "\n",
    "# Then, we evaluate it by using \"evaluate\" function.\n",
    "# If you set render=True, you can visualize the typing process.\n",
    "original_result = keyboard.evaluate(render=False)\n",
    "print(\"Average movement time (s): \", round(original_result[0],3), \n",
    "      \"; error rate : \", round(original_result[1],3))"
   ]
  },
  {
   "cell_type": "code",
   "execution_count": 5,
   "metadata": {},
   "outputs": [
    {
     "name": "stdout",
     "output_type": "stream",
     "text": [
      "== Rendering keyboard ==\n",
      "Average movement time (s):  0.511 ; error rate :  0.0\n"
     ]
    },
    {
     "data": {
      "text/html": [
       "\n",
       "    <video width=1000 controls>\n",
       "        <source src=\"data:video/mp4;base64,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\" type=\"video/mp4\">\n",
       "    </video>\n",
       "    "
      ],
      "text/plain": [
       "<IPython.core.display.HTML object>"
      ]
     },
     "metadata": {},
     "output_type": "display_data"
    }
   ],
   "source": [
    "# Let's simulate typing a short sentence\n",
    "sentence = \"hello world\"\n",
    "\n",
    "original_result = keyboard.evaluate(sentence, render=True, render_duration=15)\n",
    "\n",
    "print(\"Average movement time (s): \", round(original_result[0],3), \n",
    "      \"; error rate : \", round(original_result[1],3))\n",
    "display_video()"
   ]
  },
  {
   "cell_type": "code",
   "execution_count": 6,
   "metadata": {},
   "outputs": [],
   "source": [
    "# You can change the key assignment by swapping a pair of keys at a time.\n",
    "# Use swap_keys() function\n",
    "keyboard.swap_keys('q', 'e')\n",
    "keyboard.swap_keys('a', 'b')"
   ]
  },
  {
   "cell_type": "code",
   "execution_count": 7,
   "metadata": {},
   "outputs": [
    {
     "name": "stdout",
     "output_type": "stream",
     "text": [
      "== Rendering keyboard ==\n"
     ]
    },
    {
     "data": {
      "text/html": [
       "\n",
       "    <video width=1000 controls>\n",
       "        <source src=\"data:video/mp4;base64,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\" type=\"video/mp4\">\n",
       "    </video>\n",
       "    "
      ],
      "text/plain": [
       "<IPython.core.display.HTML object>"
      ]
     },
     "metadata": {},
     "output_type": "display_data"
    }
   ],
   "source": [
    "keyboard.render(duration=1)\n",
    "display_video()"
   ]
  },
  {
   "cell_type": "code",
   "execution_count": 8,
   "metadata": {},
   "outputs": [
    {
     "name": "stdout",
     "output_type": "stream",
     "text": [
      "== Rendering keyboard ==\n"
     ]
    },
    {
     "data": {
      "text/html": [
       "\n",
       "    <video width=1000 controls>\n",
       "        <source src=\"data:video/mp4;base64,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\" type=\"video/mp4\">\n",
       "    </video>\n",
       "    "
      ],
      "text/plain": [
       "<IPython.core.display.HTML object>"
      ]
     },
     "metadata": {},
     "output_type": "display_data"
    }
   ],
   "source": [
    "# Note that you can continue swapping keys. For instance, if you swap q <--> e \n",
    "# and a <--> b, again, the keyboard will return to the original qwerty layout.\n",
    "keyboard.swap_keys('q', 'e')\n",
    "keyboard.swap_keys('a', 'b')\n",
    "keyboard.render(duration=1)\n",
    "display_video()"
   ]
  },
  {
   "cell_type": "code",
   "execution_count": 9,
   "metadata": {},
   "outputs": [
    {
     "name": "stdout",
     "output_type": "stream",
     "text": [
      "{   ' ': {'char': ' ', 'height': 15, 'width': 120, 'x': 23.0, 'y': 58.5},\n",
      "    ',': {'char': ',', 'height': 15, 'width': 15, 'x': 123.5, 'y': 41.5},\n",
      "    '.': {'char': '.', 'height': 15, 'width': 15, 'x': 138.5, 'y': 41.5},\n",
      "    'a': {'char': 'a', 'height': 15, 'width': 15, 'x': 14.0, 'y': 24.5},\n",
      "    'b': {'char': 'b', 'height': 15, 'width': 15, 'x': 78.5, 'y': 41.5},\n",
      "    'c': {'char': 'c', 'height': 15, 'width': 15, 'x': 48.5, 'y': 41.5},\n",
      "    'd': {'char': 'd', 'height': 15, 'width': 15, 'x': 44.0, 'y': 24.5},\n",
      "    'e': {'char': 'e', 'height': 15, 'width': 15, 'x': 39.5, 'y': 7.5},\n",
      "    'f': {'char': 'f', 'height': 15, 'width': 15, 'x': 59.0, 'y': 24.5},\n",
      "    'g': {'char': 'g', 'height': 15, 'width': 15, 'x': 74.0, 'y': 24.5},\n",
      "    'h': {'char': 'h', 'height': 15, 'width': 15, 'x': 89.0, 'y': 24.5},\n",
      "    'i': {'char': 'i', 'height': 15, 'width': 15, 'x': 114.5, 'y': 7.5},\n",
      "    'j': {'char': 'j', 'height': 15, 'width': 15, 'x': 104.0, 'y': 24.5},\n",
      "    'k': {'char': 'k', 'height': 15, 'width': 15, 'x': 119.0, 'y': 24.5},\n",
      "    'l': {'char': 'l', 'height': 15, 'width': 15, 'x': 134.0, 'y': 24.5},\n",
      "    'm': {'char': 'm', 'height': 15, 'width': 15, 'x': 108.5, 'y': 41.5},\n",
      "    'n': {'char': 'n', 'height': 15, 'width': 15, 'x': 93.5, 'y': 41.5},\n",
      "    'o': {'char': 'o', 'height': 15, 'width': 15, 'x': 129.5, 'y': 7.5},\n",
      "    'p': {'char': 'p', 'height': 15, 'width': 15, 'x': 144.5, 'y': 7.5},\n",
      "    'q': {'char': 'q', 'height': 15, 'width': 15, 'x': 9.5, 'y': 7.5},\n",
      "    'r': {'char': 'r', 'height': 15, 'width': 15, 'x': 54.5, 'y': 7.5},\n",
      "    's': {'char': 's', 'height': 15, 'width': 15, 'x': 29.0, 'y': 24.5},\n",
      "    't': {'char': 't', 'height': 15, 'width': 15, 'x': 69.5, 'y': 7.5},\n",
      "    'u': {'char': 'u', 'height': 15, 'width': 15, 'x': 99.5, 'y': 7.5},\n",
      "    'v': {'char': 'v', 'height': 15, 'width': 15, 'x': 63.5, 'y': 41.5},\n",
      "    'w': {'char': 'w', 'height': 15, 'width': 15, 'x': 24.5, 'y': 7.5},\n",
      "    'x': {'char': 'x', 'height': 15, 'width': 15, 'x': 33.5, 'y': 41.5},\n",
      "    'y': {'char': 'y', 'height': 15, 'width': 15, 'x': 84.5, 'y': 7.5},\n",
      "    'z': {'char': 'z', 'height': 15, 'width': 15, 'x': 18.5, 'y': 41.5}}\n"
     ]
    }
   ],
   "source": [
    "import pprint\n",
    "# keyboard details can be changed directly in the keyboard_details dictionary\n",
    "# each key in the dictionary corresponds to the key with that letter in a us-us \n",
    "# layout you can also change the letter assigned to it by modifying its char \n",
    "# value\n",
    "pp = pprint.PrettyPrinter(indent=4)\n",
    "pp.pprint(keyboard.keyboard_details)"
   ]
  },
  {
   "cell_type": "code",
   "execution_count": 10,
   "metadata": {},
   "outputs": [],
   "source": [
    "# The keyboard class can receive custom parameters for the keyboard typing \n",
    "# models. Here is an example on how you can instantiate a keyboard with values \n",
    "# oscillating around the mean values of the parameters. \n",
    "\n",
    "means=[230, 166, 0.0075, 1.241, 0.0104, 1.118]\n",
    "sigmas = [20, 30, 0.002, 1, 0.03, 1]\n",
    "\n",
    "sampler = np.random.normal(np.zeros(len(sigmas)), sigmas)\n",
    "keyboard = KEYBOARD(fitts_a=sampler[0], fitts_b=sampler[1],\n",
    "                    alpha_x=sampler[2], sigma_alpha_x=sampler[3],\n",
    "                    alpha_y=sampler[4], sigma_alpha_y=sampler[5])"
   ]
  },
  {
   "cell_type": "markdown",
   "metadata": {},
   "source": [
    "Overlap Function:\n",
    "\n",
    "The overlap function can be defined as:\n",
    "\n",
    "overlap(i, j) = max(0, x_ij - w_i/2 - w_j/2) + max(0, y_ij - h_i/2 - h_j/2)\n",
    "\n",
    "where:\n",
    "\n",
    "x_ij and y_ij are the distances between the centers of the i-th and j-th keys in the x and y directions, respectively\n",
    "w_i and h_i are the width and height of the i-th key, respectively\n",
    "max(0, ...) ensures that the overlap is only computed when the keys actually overlap (i.e., the distance between the centers is less than the sum of the half-widths/half-heights)\n",
    "\n",
    "Breakdown:\n",
    "\n",
    "The objective function J computes the total overlap between all pairs of keys. The overlap between two keys is calculated as the maximum overlap in both the x and y directions. If the keys do not overlap, the overlap function returns 0.\n",
    "\n",
    "Cost Interpretation:\n",
    "\n",
    "The cost J represents the total overlap between all keys. A higher cost indicates more overlap between keys, which can lead to user frustration and errors. The goal is to minimize the cost J by adjusting the width and height of each key to reduce overlap.\n",
    "\n",
    "===========================================\n",
    "\n",
    "An objective function that combines shift_proportion and horizontal_shift to determine the cost:\n",
    "\n",
    "Objective Function:\n",
    "\n",
    "J = ∑[i=1 to n] (shift_proportion \\* w_i + horizontal_shift) ^ 2\n",
    "\n",
    "where:\n",
    "\n",
    "n is the number of keys on the keyboard\n",
    "w_i is the width of the i-th key\n",
    "shift_proportion is the proportion of horizontal shift for keys (between 0 and 1)\n",
    "horizontal_shift is the fixed horizontal shift for keys (in units of the keyboard's coordinate system)\n",
    "Breakdown:\n",
    "\n",
    "The objective function J computes the total cost of shifting all keys on the keyboard. For each key, the cost is calculated as the square of the sum of two terms:\n",
    "\n",
    "shift_proportion \\* w_i: This term represents the proportional shift of the key, which is the product of the key's width and the shift proportion.\n",
    "horizontal_shift: This term represents the fixed horizontal shift for all keys.\n",
    "By squaring the sum of these two terms, the objective function penalizes larger shifts more heavily, encouraging the optimization algorithm to find a solution that minimizes the overall shift."
   ]
  },
  {
   "cell_type": "code",
   "execution_count": null,
   "metadata": {},
   "outputs": [],
   "source": []
  }
 ],
 "metadata": {
  "kernelspec": {
   "display_name": "opt",
   "language": "python",
   "name": "python3"
  },
  "language_info": {
   "codemirror_mode": {
    "name": "ipython",
    "version": 3
   },
   "file_extension": ".py",
   "mimetype": "text/x-python",
   "name": "python",
   "nbconvert_exporter": "python",
   "pygments_lexer": "ipython3",
   "version": "3.12.0"
  }
 },
 "nbformat": 4,
 "nbformat_minor": 2
}
